{
  "nbformat": 4,
  "nbformat_minor": 0,
  "metadata": {
    "colab": {
      "name": "spm_bestscore.ipynb",
      "provenance": []
    },
    "kernelspec": {
      "name": "python3",
      "display_name": "Python 3"
    },
    "accelerator": "GPU"
  },
  "cells": [
    {
      "cell_type": "markdown",
      "metadata": {
        "id": "1U0YkEj5YzFR",
        "colab_type": "text"
      },
      "source": [
        "## Beyond Bags of Features: Spatial Pyramid Matching for Recognizing Natural Scene Categories"
      ]
    },
    {
      "cell_type": "code",
      "metadata": {
        "id": "YZVyvlgR_Z-9",
        "colab_type": "code",
        "outputId": "0425b7fa-d65a-40ab-b1e6-8cbb03cca703",
        "colab": {
          "base_uri": "https://localhost:8080/",
          "height": 459
        }
      },
      "source": [
        "\n",
        "!ls -lha kaggle.json\n",
        "\n",
        "!pip uninstall -y kaggle\n",
        "!pip install --upgrade pip\n",
        "!pip install kaggle==1.5.6"
      ],
      "execution_count": 0,
      "outputs": [
        {
          "output_type": "stream",
          "text": [
            "-rw-r--r-- 1 root root 64 Dec  5 15:11 kaggle.json\n",
            "Uninstalling kaggle-1.5.6:\n",
            "  Successfully uninstalled kaggle-1.5.6\n",
            "Requirement already up-to-date: pip in /usr/local/lib/python3.6/dist-packages (19.3.1)\n",
            "Collecting kaggle==1.5.6\n",
            "\u001b[?25l  Downloading https://files.pythonhosted.org/packages/62/ab/bb20f9b9e24f9a6250f95a432f8d9a7d745f8d24039d7a5a6eaadb7783ba/kaggle-1.5.6.tar.gz (58kB)\n",
            "\u001b[K     |████████████████████████████████| 61kB 1.9MB/s \n",
            "\u001b[?25hRequirement already satisfied: urllib3<1.25,>=1.21.1 in /usr/local/lib/python3.6/dist-packages (from kaggle==1.5.6) (1.24.3)\n",
            "Requirement already satisfied: six>=1.10 in /usr/local/lib/python3.6/dist-packages (from kaggle==1.5.6) (1.12.0)\n",
            "Requirement already satisfied: certifi in /usr/local/lib/python3.6/dist-packages (from kaggle==1.5.6) (2019.9.11)\n",
            "Requirement already satisfied: python-dateutil in /usr/local/lib/python3.6/dist-packages (from kaggle==1.5.6) (2.6.1)\n",
            "Requirement already satisfied: requests in /usr/local/lib/python3.6/dist-packages (from kaggle==1.5.6) (2.21.0)\n",
            "Requirement already satisfied: tqdm in /usr/local/lib/python3.6/dist-packages (from kaggle==1.5.6) (4.28.1)\n",
            "Requirement already satisfied: python-slugify in /usr/local/lib/python3.6/dist-packages (from kaggle==1.5.6) (4.0.0)\n",
            "Requirement already satisfied: idna<2.9,>=2.5 in /usr/local/lib/python3.6/dist-packages (from requests->kaggle==1.5.6) (2.8)\n",
            "Requirement already satisfied: chardet<3.1.0,>=3.0.2 in /usr/local/lib/python3.6/dist-packages (from requests->kaggle==1.5.6) (3.0.4)\n",
            "Requirement already satisfied: text-unidecode>=1.3 in /usr/local/lib/python3.6/dist-packages (from python-slugify->kaggle==1.5.6) (1.3)\n",
            "Building wheels for collected packages: kaggle\n",
            "  Building wheel for kaggle (setup.py) ... \u001b[?25l\u001b[?25hdone\n",
            "  Created wheel for kaggle: filename=kaggle-1.5.6-cp36-none-any.whl size=72859 sha256=23c62fb8b455d6f15a715b075ab68a9a4c90c0ec515a5593c0ce096f76b41217\n",
            "  Stored in directory: /root/.cache/pip/wheels/57/4e/e8/bb28d035162fb8f17f8ca5d42c3230e284c6aa565b42b72674\n",
            "Successfully built kaggle\n",
            "Installing collected packages: kaggle\n",
            "Successfully installed kaggle-1.5.6\n"
          ],
          "name": "stdout"
        }
      ]
    },
    {
      "cell_type": "code",
      "metadata": {
        "id": "mFrqGNQY_fig",
        "colab_type": "code",
        "outputId": "b15ea0f2-b712-470e-db3b-7456ad645b2e",
        "colab": {
          "base_uri": "https://localhost:8080/",
          "height": 34
        }
      },
      "source": [
        "# 캐글연동을 위한 토큰 입력\n",
        "! mkdir -p ~/.kaggle\n",
        "! cp kaggle.json ~/.kaggle/\n",
        "! chmod 600 ~/.kaggle/kaggle.json\n",
        "\n",
        "\n",
        "# 버전이 1.5.6 이 아니면, 진행할 수 없다\n",
        "! kaggle -v"
      ],
      "execution_count": 0,
      "outputs": [
        {
          "output_type": "stream",
          "text": [
            "Kaggle API 1.5.6\n"
          ],
          "name": "stdout"
        }
      ]
    },
    {
      "cell_type": "code",
      "metadata": {
        "id": "KqpzuDOj_i8-",
        "colab_type": "code",
        "colab": {}
      },
      "source": [
        "! kaggle competitions download -c 2019-ml-finalproject\n",
        "! unzip 2019-ml-finalproject.zip"
      ],
      "execution_count": 0,
      "outputs": []
    },
    {
      "cell_type": "code",
      "metadata": {
        "id": "E7tRqGlT_ln4",
        "colab_type": "code",
        "outputId": "10d795a2-1645-40a8-dc53-3d240cbf7a52",
        "colab": {
          "base_uri": "https://localhost:8080/",
          "height": 723
        }
      },
      "source": [
        "! yes | pip3 uninstall opencv-python\n",
        "! yes | pip3 uninstall opencv-contrib-python\n",
        "! yes | pip3 install opencv-python==3.4.2.16\n",
        "! yes | pip3 install opencv-contrib-python==3.4.2.16\n",
        "! yes | pip3 install kmc2"
      ],
      "execution_count": 0,
      "outputs": [
        {
          "output_type": "stream",
          "text": [
            "Uninstalling opencv-python-4.1.2.30:\n",
            "  Would remove:\n",
            "    /usr/local/lib/python3.6/dist-packages/cv2/*\n",
            "    /usr/local/lib/python3.6/dist-packages/opencv_python-4.1.2.30.dist-info/*\n",
            "Proceed (y/n)?   Successfully uninstalled opencv-python-4.1.2.30\n",
            "Uninstalling opencv-contrib-python-4.1.2.30:\n",
            "  Would remove:\n",
            "    /usr/local/lib/python3.6/dist-packages/opencv_contrib_python-4.1.2.30.dist-info/*\n",
            "Proceed (y/n)?   Successfully uninstalled opencv-contrib-python-4.1.2.30\n",
            "Collecting opencv-python==3.4.2.16\n",
            "\u001b[?25l  Downloading https://files.pythonhosted.org/packages/fa/7d/5042b668a8ed41d2a80b8c172f5efcd572e3c046c75ae029407e19b7fc68/opencv_python-3.4.2.16-cp36-cp36m-manylinux1_x86_64.whl (25.0MB)\n",
            "\u001b[K     |████████████████████████████████| 25.0MB 4.3MB/s \n",
            "\u001b[?25hRequirement already satisfied: numpy>=1.11.3 in /usr/local/lib/python3.6/dist-packages (from opencv-python==3.4.2.16) (1.17.4)\n",
            "\u001b[31mERROR: albumentations 0.1.12 has requirement imgaug<0.2.7,>=0.2.5, but you'll have imgaug 0.2.9 which is incompatible.\u001b[0m\n",
            "Installing collected packages: opencv-python\n",
            "Successfully installed opencv-python-3.4.2.16\n",
            "Collecting opencv-contrib-python==3.4.2.16\n",
            "\u001b[?25l  Downloading https://files.pythonhosted.org/packages/08/f1/66330f4042c4fb3b2d77a159db8e8916d9cdecc29bc8c1f56bc7f8a9bec9/opencv_contrib_python-3.4.2.16-cp36-cp36m-manylinux1_x86_64.whl (30.6MB)\n",
            "\u001b[K     |████████████████████████████████| 30.6MB 46.6MB/s \n",
            "\u001b[?25hRequirement already satisfied: numpy>=1.11.3 in /usr/local/lib/python3.6/dist-packages (from opencv-contrib-python==3.4.2.16) (1.17.4)\n",
            "Installing collected packages: opencv-contrib-python\n",
            "Successfully installed opencv-contrib-python-3.4.2.16\n",
            "Collecting kmc2\n",
            "\u001b[?25l  Downloading https://files.pythonhosted.org/packages/b6/a2/42b2dd4fa0c425912c03222dd443f1d6aceed410a29467d1e5d8989c72f1/kmc2-0.1.tar.gz (102kB)\n",
            "\u001b[K     |████████████████████████████████| 102kB 2.3MB/s \n",
            "\u001b[?25hRequirement already satisfied: numpy in /usr/local/lib/python3.6/dist-packages (from kmc2) (1.17.4)\n",
            "Requirement already satisfied: scipy in /usr/local/lib/python3.6/dist-packages (from kmc2) (1.3.3)\n",
            "Requirement already satisfied: scikit-learn in /usr/local/lib/python3.6/dist-packages (from kmc2) (0.21.3)\n",
            "Collecting nose\n",
            "\u001b[?25l  Downloading https://files.pythonhosted.org/packages/15/d8/dd071918c040f50fa1cf80da16423af51ff8ce4a0f2399b7bf8de45ac3d9/nose-1.3.7-py3-none-any.whl (154kB)\n",
            "\u001b[K     |████████████████████████████████| 163kB 8.8MB/s \n",
            "\u001b[?25hRequirement already satisfied: joblib>=0.11 in /usr/local/lib/python3.6/dist-packages (from scikit-learn->kmc2) (0.14.0)\n",
            "Building wheels for collected packages: kmc2\n",
            "  Building wheel for kmc2 (setup.py) ... \u001b[?25l\u001b[?25hdone\n",
            "  Created wheel for kmc2: filename=kmc2-0.1-cp36-cp36m-linux_x86_64.whl size=252218 sha256=9ebdc8300a3fd393e3d3b91e96292af1128a3dedbace15779815979b5ebdd0cd\n",
            "  Stored in directory: /root/.cache/pip/wheels/5c/ba/f0/4c8b421be72d4f2d1a93233c2f6f591e7d8b0bda05a1f4616f\n",
            "Successfully built kmc2\n",
            "Installing collected packages: nose, kmc2\n",
            "Successfully installed kmc2-0.1 nose-1.3.7\n"
          ],
          "name": "stdout"
        }
      ]
    },
    {
      "cell_type": "markdown",
      "metadata": {
        "id": "3FuOSfQpg2Id",
        "colab_type": "text"
      },
      "source": [
        "## 라이브러리"
      ]
    },
    {
      "cell_type": "code",
      "metadata": {
        "id": "9gZFdDQ1ZayL",
        "colab_type": "code",
        "colab": {}
      },
      "source": [
        "import cv2\n",
        "import os\n",
        "from tqdm import tqdm\n",
        "import numpy as np\n",
        "from sklearn.model_selection import train_test_split\n",
        "from sklearn.model_selection import GridSearchCV\n",
        "from sklearn import svm\n",
        "from sklearn.metrics import classification_report\n",
        "import scipy.cluster.vq as vq\n",
        "import pandas as pd\n",
        "import kmc2\n",
        "from sklearn.cluster import MiniBatchKMeans\n"
      ],
      "execution_count": 0,
      "outputs": []
    },
    {
      "cell_type": "markdown",
      "metadata": {
        "id": "UOCtxGnng3re",
        "colab_type": "text"
      },
      "source": [
        "## 데이터 로드"
      ]
    },
    {
      "cell_type": "code",
      "metadata": {
        "id": "o6PqhmC2_r7f",
        "colab_type": "code",
        "outputId": "3416d687-3aa6-4e1c-8f77-a3d081a7e571",
        "colab": {
          "base_uri": "https://localhost:8080/",
          "height": 34
        }
      },
      "source": [
        "df_data=pd.read_csv('./Label2Names.csv',header=None)\n",
        "\n",
        "DATA_ROOT_TRAIN=\"./train\"\n",
        "train_des=list()\n",
        "train_labels=list()\n",
        "\n",
        "for cls in tqdm(os.listdir(DATA_ROOT_TRAIN)):\n",
        "  img_list=os.listdir(DATA_ROOT_TRAIN+'/'+cls)\n",
        "  img_list.sort()\n",
        "  \n",
        "\n",
        "  if cls=='BACKGROUND_Google':\n",
        "    label=102\n",
        "  else:\n",
        "    label=(df_data.index[df_data[1]==cls]+1).tolist()[0]\n",
        "\n",
        "  for img in img_list:\n",
        "    image=cv2.imread(DATA_ROOT_TRAIN+'/'+cls+'/'+img)\n",
        "    image=cv2.resize(image,(256,256))\n",
        "    train_des.append(image)\n",
        "    train_labels.append(label)"
      ],
      "execution_count": 0,
      "outputs": [
        {
          "output_type": "stream",
          "text": [
            "100%|██████████| 102/102 [00:04<00:00, 23.62it/s]\n"
          ],
          "name": "stderr"
        }
      ]
    },
    {
      "cell_type": "code",
      "metadata": {
        "id": "dxjE1FkcAFVC",
        "colab_type": "code",
        "colab": {}
      },
      "source": [
        "train_des=np.array(train_des)\n",
        "train_labels=np.array(train_labels)"
      ],
      "execution_count": 0,
      "outputs": []
    },
    {
      "cell_type": "code",
      "metadata": {
        "id": "9CO4_enAAclx",
        "colab_type": "code",
        "outputId": "0e877d93-e566-4c85-9d58-9f4b15ee6c4e",
        "colab": {
          "base_uri": "https://localhost:8080/",
          "height": 34
        }
      },
      "source": [
        "DATA_ROOT_TEST=\"./testAll_v2\"\n",
        "test_des=list()\n",
        "img_list=os.listdir(DATA_ROOT_TEST)\n",
        "img_list.sort()\n",
        "\n",
        "for img in tqdm(img_list):\n",
        "  image=cv2.imread(DATA_ROOT_TEST+'/'+img)\n",
        "  image=cv2.resize(image,(256,256))\n",
        "  test_des.append(image)"
      ],
      "execution_count": 0,
      "outputs": [
        {
          "output_type": "stream",
          "text": [
            "100%|██████████| 1692/1692 [00:02<00:00, 780.59it/s]\n"
          ],
          "name": "stderr"
        }
      ]
    },
    {
      "cell_type": "code",
      "metadata": {
        "id": "sgj8yzZjAlQj",
        "colab_type": "code",
        "colab": {}
      },
      "source": [
        "DSIFT_STEP_SIZE=8\n",
        "def extract_DenseSift_descriptors(img):\n",
        "  sift=cv2.xfeatures2d.SIFT_create()\n",
        "  dsift_step_size=DSIFT_STEP_SIZE\n",
        "  keypoints=[cv2.KeyPoint(x,y,dsift_step_size)\n",
        "    for y in range(0,img.shape[0],dsift_step_size)\n",
        "      for x in range(0,img.shape[1],dsift_step_size)]\n",
        "  keypoints, descriptors=sift.compute(img,keypoints)\n",
        "  return descriptors"
      ],
      "execution_count": 0,
      "outputs": []
    },
    {
      "cell_type": "code",
      "metadata": {
        "id": "F1Fe2F23GIlh",
        "colab_type": "code",
        "colab": {}
      },
      "source": [
        "def input_vector_encoder(feature,codebook):\n",
        "  code,_=vq.vq(feature,codebook)\n",
        "  word_hist,bin_edges=np.histogram(code,bins=range(codebook.shape[0]+1),normed=True)\n",
        "  return word_hist"
      ],
      "execution_count": 0,
      "outputs": []
    },
    {
      "cell_type": "code",
      "metadata": {
        "id": "jI8bBUiEmYOK",
        "colab_type": "code",
        "colab": {}
      },
      "source": [
        "\n",
        "def build_spatial_pyramid(image,descriptor,level):\n",
        "  step_size=DSIFT_STEP_SIZE\n",
        "  h=image.shape[0]//step_size\n",
        "  w=image.shape[1]//step_size\n",
        "  idx_crop=np.array(range(len(descriptor))).reshape(h,w)\n",
        "  size=idx_crop.itemsize\n",
        "  height,width=idx_crop.shape\n",
        "  bh,bw=2**(3-level),2**(3-level)\n",
        "  shape=(height//bh,width//bw,bh,bw)\n",
        "  strides=size*np.array([width*bh,bw,width,1])\n",
        "\n",
        "  crops=np.lib.stride_tricks.as_strided(\n",
        "      idx_crop,shape=shape,strides=strides\n",
        "  )\n",
        "  des_idxs=[col_block.flatten().tolist() for row_block in crops\n",
        "            for col_block in row_block]\n",
        "  pyramid=[]\n",
        "  for idxs in des_idxs:\n",
        "    pyramid.append(np.asarray([descriptor[idx] for idx in idxs]))\n",
        "  return pyramid"
      ],
      "execution_count": 0,
      "outputs": []
    },
    {
      "cell_type": "code",
      "metadata": {
        "id": "ezxzN-s8noOa",
        "colab_type": "code",
        "colab": {}
      },
      "source": [
        "def spatial_pyramid_matching(image,descriptor,codebook,level):\n",
        "  pyramid=[]\n",
        "  if level==0:\n",
        "    pyramid+=build_spatial_pyramid(image,descriptor,level=0)\n",
        "    code=[input_vector_encoder(crop,codebook) for crop in pyramid]\n",
        "    return np.asarray(code).flatten()\n",
        "  if level==1:\n",
        "    pyramid+=build_spatial_pyramid(image,descriptor,level=0)\n",
        "    pyramid+=build_spatial_pyramid(image,descriptor,level=1)\n",
        "    code=[input_vector_encoder(crop,codebook) for crop in pyramid]\n",
        "    code_level_0=0.5*np.asarray(code[0]).flatten()\n",
        "    code_level_1=0.5*np.asarray(code[1:]).flatten()\n",
        "    return np.concatenate((code_level_0,code_level_1))\n",
        "  if level==2:\n",
        "    pyramid+=build_spatial_pyramid(image,descriptor,level=0)\n",
        "    pyramid+=build_spatial_pyramid(image,descriptor,level=1)\n",
        "    pyramid+=build_spatial_pyramid(image,descriptor,level=2)\n",
        "    code=[input_vector_encoder(crop,codebook) for crop in pyramid]\n",
        "    code_level_0=0.25*np.asarray(code[0]).flatten()\n",
        "    code_level_1=0.25*np.asarray(code[1:5]).flatten()\n",
        "    code_level_2=0.5*np.asarray(code[5:]).flatten()\n",
        "    return np.concatenate((code_level_0,code_level_1,code_level_2))"
      ],
      "execution_count": 0,
      "outputs": []
    },
    {
      "cell_type": "code",
      "metadata": {
        "id": "UBFGJS8B5Z1p",
        "colab_type": "code",
        "colab": {}
      },
      "source": [
        "def histogramIntersection(M,N):\n",
        "  m=M.shape[0]\n",
        "  n=N.shape[0]\n",
        "\n",
        "  result=np.zeros((m,n))\n",
        "  for i in range(m):\n",
        "    for j in range(n):\n",
        "      temp=np.sum(np.minimum(M[i],N[j]))\n",
        "      result[i][j]=temp\n",
        "  return result"
      ],
      "execution_count": 0,
      "outputs": []
    },
    {
      "cell_type": "markdown",
      "metadata": {
        "id": "p19AKBFYg65Q",
        "colab_type": "text"
      },
      "source": [
        "## 1. Dense sift기술자 추출"
      ]
    },
    {
      "cell_type": "code",
      "metadata": {
        "id": "KrjrQGx_AjtY",
        "colab_type": "code",
        "outputId": "04b71aff-1fde-4640-df9f-44783b7543c5",
        "colab": {
          "base_uri": "https://localhost:8080/",
          "height": 107
        }
      },
      "source": [
        "from time import time\n",
        "\n",
        "t0=time()\n",
        "\n",
        "xtrain=[]\n",
        "for img in train_des:\n",
        "  x=extract_DenseSift_descriptors(img)\n",
        "  xtrain.append(x)\n",
        "\n",
        "x_train_dex=np.vstack((descriptor for descriptor in xtrain))\n",
        "\n",
        "xtest=[]\n",
        "for img in test_des:\n",
        "  x=extract_DenseSift_descriptors(img)\n",
        "  xtest.append(x)\n",
        "\n",
        "x_test_dex=np.vstack((descriptor for descriptor in xtest))\n",
        "\n",
        "print(time()-t0)"
      ],
      "execution_count": 0,
      "outputs": [
        {
          "output_type": "stream",
          "text": [
            "/usr/local/lib/python3.6/dist-packages/ipykernel_launcher.py:10: FutureWarning: arrays to stack must be passed as a \"sequence\" type such as list or tuple. Support for non-sequence iterables such as generators is deprecated as of NumPy 1.16 and will raise an error in the future.\n",
            "  # Remove the CWD from sys.path while we load stuff.\n",
            "/usr/local/lib/python3.6/dist-packages/ipykernel_launcher.py:17: FutureWarning: arrays to stack must be passed as a \"sequence\" type such as list or tuple. Support for non-sequence iterables such as generators is deprecated as of NumPy 1.16 and will raise an error in the future.\n"
          ],
          "name": "stderr"
        },
        {
          "output_type": "stream",
          "text": [
            "456.36689496040344\n"
          ],
          "name": "stdout"
        }
      ]
    },
    {
      "cell_type": "markdown",
      "metadata": {
        "id": "HFFE5dJehDmy",
        "colab_type": "text"
      },
      "source": [
        "## 2. Kmeans군집화로 코드북 생성"
      ]
    },
    {
      "cell_type": "code",
      "metadata": {
        "id": "7EJUwJcHCrKm",
        "colab_type": "code",
        "outputId": "6304b8af-e7f2-4060-dde5-5a52c87bb6d8",
        "colab": {
          "base_uri": "https://localhost:8080/",
          "height": 125
        }
      },
      "source": [
        "t0=time()\n",
        "\n",
        "codebooksize=400\n",
        "seeding=kmc2.kmc2(np.array(x_train_dex).reshape(-1,128),codebooksize)\n",
        "Kmeans=MiniBatchKMeans(codebooksize,init=seeding).fit(np.array(x_train_dex).reshape(-1,128))\n",
        "codebook=Kmeans.cluster_centers_\n",
        "\n",
        "print(time()-t0)"
      ],
      "execution_count": 0,
      "outputs": [
        {
          "output_type": "stream",
          "text": [
            "/usr/local/lib/python3.6/dist-packages/ipykernel_launcher.py:5: RuntimeWarning: Explicit initial center position passed: performing only one init in MiniBatchKMeans instead of n_init=3\n",
            "  \"\"\"\n",
            "/usr/local/lib/python3.6/dist-packages/sklearn/cluster/k_means_.py:1561: RuntimeWarning: init_size=300 should be larger than k=400. Setting it to 3*k\n",
            "  init_size=init_size)\n"
          ],
          "name": "stderr"
        },
        {
          "output_type": "stream",
          "text": [
            "808.218183517456\n"
          ],
          "name": "stdout"
        }
      ]
    },
    {
      "cell_type": "markdown",
      "metadata": {
        "id": "KS485N2ShJoL",
        "colab_type": "text"
      },
      "source": [
        "## 3. 기술자와 코드북을 이용해서 이미지당 피라미드(level=1) 히스토그램 생성"
      ]
    },
    {
      "cell_type": "code",
      "metadata": {
        "id": "ifvi1JrPBl99",
        "colab_type": "code",
        "outputId": "b524807a-b114-4688-8367-1c6fabb16a26",
        "colab": {
          "base_uri": "https://localhost:8080/",
          "height": 90
        }
      },
      "source": [
        "t0=time()\n",
        "\n",
        "x_train=[spatial_pyramid_matching(train_des[i],xtrain[i],codebook,level=1) for i in range(len(train_des))]\n",
        "x_test=[spatial_pyramid_matching(test_des[i],xtest[i],codebook, level=1) for i in range(len(test_des))] \n",
        "\n",
        "print(time()-t0)\n"
      ],
      "execution_count": 0,
      "outputs": [
        {
          "output_type": "stream",
          "text": [
            "/usr/local/lib/python3.6/dist-packages/ipykernel_launcher.py:3: VisibleDeprecationWarning: Passing `normed=True` on non-uniform bins has always been broken, and computes neither the probability density function nor the probability mass function. The result is only correct if the bins are uniform, when density=True will produce the same result anyway. The argument will be removed in a future version of numpy.\n",
            "  This is separate from the ipykernel package so we can avoid doing imports until\n"
          ],
          "name": "stderr"
        },
        {
          "output_type": "stream",
          "text": [
            "308.98332715034485\n"
          ],
          "name": "stdout"
        }
      ]
    },
    {
      "cell_type": "code",
      "metadata": {
        "id": "qayNPIrLGDcQ",
        "colab_type": "code",
        "colab": {}
      },
      "source": [
        "x_train=np.asarray(x_train)\n",
        "x_test=np.asarray(x_test)"
      ],
      "execution_count": 0,
      "outputs": []
    },
    {
      "cell_type": "markdown",
      "metadata": {
        "id": "wisYIyNGhW3k",
        "colab_type": "text"
      },
      "source": [
        "## 4. 학습데이터에 대해 histogramIntersection 커널을 가진 SVM분류기로 학습"
      ]
    },
    {
      "cell_type": "code",
      "metadata": {
        "id": "wi61l_NZ0fM7",
        "colab_type": "code",
        "outputId": "964cfe0a-3c8f-44cd-a491-c756be0dfd2c",
        "colab": {
          "base_uri": "https://localhost:8080/",
          "height": 34
        }
      },
      "source": [
        "t0=time()\n",
        "\n",
        "from sklearn.svm import SVC\n",
        "gramMatrix=histogramIntersection(x_train,x_train)\n",
        "\n",
        "C_range=10.0**np.arange(-3,3)\n",
        "gamma_range=10.0**np.arange(-3,3)\n",
        "param_grid=dict(gamma=gamma_range.tolist(),C=C_range.tolist())\n",
        "\n",
        "clf=GridSearchCV(SVC(kernel='precomputed'),param_grid,cv=5,n_jobs=-2)\n",
        "clf.fit(gramMatrix,train_labels)\n",
        "\n",
        "time()-t0"
      ],
      "execution_count": 0,
      "outputs": [
        {
          "output_type": "execute_result",
          "data": {
            "text/plain": [
              "936.9802219867706"
            ]
          },
          "metadata": {
            "tags": []
          },
          "execution_count": 22
        }
      ]
    },
    {
      "cell_type": "markdown",
      "metadata": {
        "id": "XIgJ5GOXhigi",
        "colab_type": "text"
      },
      "source": [
        "## 테스트 데이터에 대한 라벨 값 예측"
      ]
    },
    {
      "cell_type": "code",
      "metadata": {
        "id": "KD3RUC4D60W7",
        "colab_type": "code",
        "colab": {}
      },
      "source": [
        "predictMatrix=histogramIntersection(x_test,x_train)\n",
        "label=clf.predict(predictMatrix)\n"
      ],
      "execution_count": 0,
      "outputs": []
    },
    {
      "cell_type": "markdown",
      "metadata": {
        "id": "gQ60wKr3hkek",
        "colab_type": "text"
      },
      "source": [
        "## 제출형식"
      ]
    },
    {
      "cell_type": "code",
      "metadata": {
        "id": "rN5vjmUrLAnE",
        "colab_type": "code",
        "colab": {}
      },
      "source": [
        "result=np.array(label).reshape(-1,1)\n",
        "img_list=np.array(img_list).reshape(-1,1)"
      ],
      "execution_count": 0,
      "outputs": []
    },
    {
      "cell_type": "code",
      "metadata": {
        "id": "38AZs1GBfKYL",
        "colab_type": "code",
        "colab": {}
      },
      "source": [
        "total_result=np.hstack([img_list,result])"
      ],
      "execution_count": 0,
      "outputs": []
    },
    {
      "cell_type": "code",
      "metadata": {
        "id": "vDMSsJQ0HlEG",
        "colab_type": "code",
        "colab": {}
      },
      "source": [
        "df=pd.DataFrame(total_result,columns=[\"Id\",\"Category\"])\n",
        "df.to_csv('results-hrkim-v3.csv',index=False,header=True)"
      ],
      "execution_count": 0,
      "outputs": []
    },
    {
      "cell_type": "code",
      "metadata": {
        "id": "9bkRm_OpfpAt",
        "colab_type": "code",
        "outputId": "227f6f54-a390-4b3d-8c58-107e7329e049",
        "colab": {
          "base_uri": "https://localhost:8080/",
          "height": 402
        }
      },
      "source": [
        "pd.read_csv('results-hrkim-v3.csv')"
      ],
      "execution_count": 0,
      "outputs": [
        {
          "output_type": "execute_result",
          "data": {
            "text/html": [
              "<div>\n",
              "<style scoped>\n",
              "    .dataframe tbody tr th:only-of-type {\n",
              "        vertical-align: middle;\n",
              "    }\n",
              "\n",
              "    .dataframe tbody tr th {\n",
              "        vertical-align: top;\n",
              "    }\n",
              "\n",
              "    .dataframe thead th {\n",
              "        text-align: right;\n",
              "    }\n",
              "</style>\n",
              "<table border=\"1\" class=\"dataframe\">\n",
              "  <thead>\n",
              "    <tr style=\"text-align: right;\">\n",
              "      <th></th>\n",
              "      <th>Id</th>\n",
              "      <th>Category</th>\n",
              "    </tr>\n",
              "  </thead>\n",
              "  <tbody>\n",
              "    <tr>\n",
              "      <th>0</th>\n",
              "      <td>image_0001.jpg</td>\n",
              "      <td>45</td>\n",
              "    </tr>\n",
              "    <tr>\n",
              "      <th>1</th>\n",
              "      <td>image_0002.jpg</td>\n",
              "      <td>89</td>\n",
              "    </tr>\n",
              "    <tr>\n",
              "      <th>2</th>\n",
              "      <td>image_0003.jpg</td>\n",
              "      <td>72</td>\n",
              "    </tr>\n",
              "    <tr>\n",
              "      <th>3</th>\n",
              "      <td>image_0004.jpg</td>\n",
              "      <td>34</td>\n",
              "    </tr>\n",
              "    <tr>\n",
              "      <th>4</th>\n",
              "      <td>image_0005.jpg</td>\n",
              "      <td>14</td>\n",
              "    </tr>\n",
              "    <tr>\n",
              "      <th>...</th>\n",
              "      <td>...</td>\n",
              "      <td>...</td>\n",
              "    </tr>\n",
              "    <tr>\n",
              "      <th>1687</th>\n",
              "      <td>image_1688.jpg</td>\n",
              "      <td>17</td>\n",
              "    </tr>\n",
              "    <tr>\n",
              "      <th>1688</th>\n",
              "      <td>image_1689.jpg</td>\n",
              "      <td>61</td>\n",
              "    </tr>\n",
              "    <tr>\n",
              "      <th>1689</th>\n",
              "      <td>image_1690.jpg</td>\n",
              "      <td>29</td>\n",
              "    </tr>\n",
              "    <tr>\n",
              "      <th>1690</th>\n",
              "      <td>image_1691.jpg</td>\n",
              "      <td>38</td>\n",
              "    </tr>\n",
              "    <tr>\n",
              "      <th>1691</th>\n",
              "      <td>image_1692.jpg</td>\n",
              "      <td>35</td>\n",
              "    </tr>\n",
              "  </tbody>\n",
              "</table>\n",
              "<p>1692 rows × 2 columns</p>\n",
              "</div>"
            ],
            "text/plain": [
              "                  Id  Category\n",
              "0     image_0001.jpg        45\n",
              "1     image_0002.jpg        89\n",
              "2     image_0003.jpg        72\n",
              "3     image_0004.jpg        34\n",
              "4     image_0005.jpg        14\n",
              "...              ...       ...\n",
              "1687  image_1688.jpg        17\n",
              "1688  image_1689.jpg        61\n",
              "1689  image_1690.jpg        29\n",
              "1690  image_1691.jpg        38\n",
              "1691  image_1692.jpg        35\n",
              "\n",
              "[1692 rows x 2 columns]"
            ]
          },
          "metadata": {
            "tags": []
          },
          "execution_count": 27
        }
      ]
    },
    {
      "cell_type": "code",
      "metadata": {
        "id": "Ov1rz6JLfdF1",
        "colab_type": "code",
        "outputId": "1353bd8d-9e1d-4d78-97d6-0c1f69be2944",
        "colab": {
          "base_uri": "https://localhost:8080/",
          "height": 52
        }
      },
      "source": [
        "! kaggle competitions submit -c 2019-ml-finalproject -f results-hrkim-v3.csv -m \"Final_Term_Project\"\n"
      ],
      "execution_count": 0,
      "outputs": [
        {
          "output_type": "stream",
          "text": [
            "100% 29.6k/29.6k [00:05<00:00, 5.12kB/s]\n",
            "Successfully submitted to 2019.Fall.PatternRecognition "
          ],
          "name": "stdout"
        }
      ]
    },
    {
      "cell_type": "markdown",
      "metadata": {
        "id": "RI0tez7nFM_D",
        "colab_type": "text"
      },
      "source": [
        "+ 성능: 0.55673~0.56855\n"
      ]
    }
  ]
}
